{
 "cells": [
  {
   "cell_type": "markdown",
   "metadata": {},
   "source": [
    "# Main notebook"
   ]
  },
  {
   "cell_type": "markdown",
   "metadata": {},
   "source": [
    "### Preprocessing"
   ]
  },
  {
   "cell_type": "code",
   "execution_count": 59,
   "metadata": {},
   "outputs": [],
   "source": [
    "import pandas as pd \n",
    "import json \n",
    "import os\n",
    "import random\n",
    "from tqdm import tqdm \n",
    "import pickle \n",
    "from collections import defaultdict\n",
    "from collections import Counter\n",
    "from functions import *\n",
    "import numpy as np\n",
    "import scipy.sparse as sp\n",
    "import matplotlib.pyplot as plt \n",
    "from collections import Counter\n",
    "import networkx as nx\n",
    "from prettytable import PrettyTable"
   ]
  },
  {
   "cell_type": "code",
   "execution_count": 2,
   "metadata": {},
   "outputs": [],
   "source": [
    "\"\"\"\n",
    "Renaming the columns dataset\n",
    "\"\"\"\n",
    "df = pd.read_csv(\"data/wikigraph_reduced.csv\", sep='\\t') \n",
    "df.columns = [\"Edges\",'Source', 'Target']"
   ]
  },
  {
   "cell_type": "code",
   "execution_count": 3,
   "metadata": {},
   "outputs": [
    {
     "data": {
      "text/html": [
       "<div>\n",
       "<style scoped>\n",
       "    .dataframe tbody tr th:only-of-type {\n",
       "        vertical-align: middle;\n",
       "    }\n",
       "\n",
       "    .dataframe tbody tr th {\n",
       "        vertical-align: top;\n",
       "    }\n",
       "\n",
       "    .dataframe thead th {\n",
       "        text-align: right;\n",
       "    }\n",
       "</style>\n",
       "<table border=\"1\" class=\"dataframe\">\n",
       "  <thead>\n",
       "    <tr style=\"text-align: right;\">\n",
       "      <th></th>\n",
       "      <th>Edges</th>\n",
       "      <th>Source</th>\n",
       "      <th>Target</th>\n",
       "    </tr>\n",
       "  </thead>\n",
       "  <tbody>\n",
       "    <tr>\n",
       "      <th>0</th>\n",
       "      <td>796</td>\n",
       "      <td>95</td>\n",
       "      <td>1185516</td>\n",
       "    </tr>\n",
       "    <tr>\n",
       "      <th>1</th>\n",
       "      <td>909</td>\n",
       "      <td>108</td>\n",
       "      <td>1059989</td>\n",
       "    </tr>\n",
       "    <tr>\n",
       "      <th>2</th>\n",
       "      <td>910</td>\n",
       "      <td>108</td>\n",
       "      <td>1062426</td>\n",
       "    </tr>\n",
       "    <tr>\n",
       "      <th>3</th>\n",
       "      <td>911</td>\n",
       "      <td>108</td>\n",
       "      <td>1161925</td>\n",
       "    </tr>\n",
       "    <tr>\n",
       "      <th>4</th>\n",
       "      <td>1141</td>\n",
       "      <td>134</td>\n",
       "      <td>541222</td>\n",
       "    </tr>\n",
       "  </tbody>\n",
       "</table>\n",
       "</div>"
      ],
      "text/plain": [
       "   Edges  Source   Target\n",
       "0    796      95  1185516\n",
       "1    909     108  1059989\n",
       "2    910     108  1062426\n",
       "3    911     108  1161925\n",
       "4   1141     134   541222"
      ]
     },
     "execution_count": 3,
     "metadata": {},
     "output_type": "execute_result"
    }
   ],
   "source": [
    "df.head(5)"
   ]
  },
  {
   "cell_type": "code",
   "execution_count": 4,
   "metadata": {},
   "outputs": [],
   "source": [
    "\"\"\"\n",
    "save renamed dataset into a csv file\n",
    "\"\"\"\n",
    "df.to_csv('data/dataset.csv', index=False)"
   ]
  },
  {
   "cell_type": "code",
   "execution_count": 5,
   "metadata": {
    "scrolled": false
   },
   "outputs": [
    {
     "name": "stderr",
     "output_type": "stream",
     "text": [
      "1791489it [00:02, 722223.51it/s]\n"
     ]
    }
   ],
   "source": [
    "\"\"\"\n",
    "Looping over the txt file named \"wiki-topcats-page-names.txt\", \n",
    "we build a dictionary with key an integer and as value the name (as string) the name of the page. \n",
    "This index allows to work directly with page indexes.\n",
    "keys: number of the page (article)\n",
    "values: name of the page (article)\n",
    "\"\"\"\n",
    "\n",
    "p = open(\"data/wiki-topcats-page-names.txt\", \"r\")\n",
    "pages = {}\n",
    "for pag in tqdm(p): \n",
    "    list_ = pag.split()[1:]\n",
    "    aux = ' '.join(list_)\n",
    "    pages[int(pag.split()[0])] = aux\n"
   ]
  },
  {
   "cell_type": "code",
   "execution_count": 6,
   "metadata": {},
   "outputs": [],
   "source": [
    "\"\"\"\n",
    "usage of write/read pickle to save and read without re-run the cose\n",
    "\"\"\"\n",
    "write_pickle('data/pages.pkl', pages)"
   ]
  },
  {
   "cell_type": "code",
   "execution_count": 7,
   "metadata": {
    "scrolled": true
   },
   "outputs": [],
   "source": [
    "pages = read_pickle('data/pages.pkl')"
   ]
  },
  {
   "cell_type": "markdown",
   "metadata": {},
   "source": [
    "In this step, we work with categories in two main steps: \n",
    "1. Since the provided dataset has been reduced from the entire one taking into account only pages belonging to categories with a length between 5000 and 30000, we considered categories within this margin.\n",
    "2. Since each page (node) in the graph must belong to a single category, we created a structure in which each page in the graph (dictionary key) contains (as values) a list with all the categories to which that page belongs. "
   ]
  },
  {
   "cell_type": "code",
   "execution_count": 8,
   "metadata": {},
   "outputs": [
    {
     "name": "stderr",
     "output_type": "stream",
     "text": [
      "17364it [00:01, 14056.95it/s]\n"
     ]
    }
   ],
   "source": [
    "\"\"\"\n",
    "keys: number of the page (article)\n",
    "values: [list of categories]\n",
    "\"\"\"\n",
    "\n",
    "# keys: number of the page (article)\n",
    "# values: [list of categories]\n",
    "cat = open(\"data/wiki-topcats-categories.txt\", \"r\")\n",
    "cat_per_pages = {}\n",
    "for i in tqdm(cat):\n",
    "    category = i.split()[0][9:-1]\n",
    "    page_in_cat = list(map(int, i.split()[1:]))\n",
    "\n",
    "    if len(page_in_cat) >5000 and len(page_in_cat) < 30000:\n",
    "        for x in page_in_cat:\n",
    "            if x not in cat_per_pages:\n",
    "                a= []\n",
    "                a.append(category)\n",
    "                cat_per_pages[x]=a\n",
    "            else: \n",
    "                aux = list(cat_per_pages[x])\n",
    "                aux.append(category)\n",
    "                cat_per_pages[x]= aux"
   ]
  },
  {
   "cell_type": "markdown",
   "metadata": {},
   "source": [
    "As mentioned above, since a page must belong to only one category, the above structure allows us to choose only one category per page by choosing one randomly. "
   ]
  },
  {
   "cell_type": "code",
   "execution_count": 9,
   "metadata": {},
   "outputs": [
    {
     "name": "stderr",
     "output_type": "stream",
     "text": [
      "100%|██████████| 149794/149794 [00:00<00:00, 447858.92it/s]\n"
     ]
    }
   ],
   "source": [
    "\"\"\"\n",
    "keys: number of the page (article)\n",
    "values: category chosen at random and referring to that page\n",
    "\"\"\"\n",
    "one_cat_per_pages = {}\n",
    "for key, elem in tqdm(cat_per_pages.items()):\n",
    "    one_cat_per_pages[key] = random.choices(elem, k = 1)\n"
   ]
  },
  {
   "cell_type": "code",
   "execution_count": 10,
   "metadata": {},
   "outputs": [],
   "source": [
    "write_pickle('data/one_cat_per_pages.pkl', one_cat_per_pages)"
   ]
  },
  {
   "cell_type": "code",
   "execution_count": 11,
   "metadata": {},
   "outputs": [],
   "source": [
    "one_cat_per_pages = read_pickle('data/one_cat_per_pages.pkl')"
   ]
  },
  {
   "cell_type": "markdown",
   "metadata": {},
   "source": [
    "Finally, we create a last dictionary that takes us back to the initial state, i.e. \n",
    "the name of the category and the pages (integers) in that category. \n",
    "This time, each page is linked to a single category."
   ]
  },
  {
   "cell_type": "code",
   "execution_count": 12,
   "metadata": {},
   "outputs": [
    {
     "name": "stderr",
     "output_type": "stream",
     "text": [
      "100%|██████████| 149794/149794 [00:02<00:00, 69239.99it/s]\n"
     ]
    }
   ],
   "source": [
    "\"\"\"\n",
    "keys: category chosen at random \n",
    "values: number of the pages (article) referring to the category\n",
    "\"\"\"\n",
    "categories_red = {}\n",
    "for key, elem in tqdm(one_cat_per_pages.items()):\n",
    "\n",
    "    if elem[0] not in categories_red:\n",
    "            a= []\n",
    "            a.append(key)\n",
    "            categories_red[elem[0]]=a\n",
    "    else: \n",
    "            aux = list(categories_red[elem[0]])\n",
    "            aux.append(key)\n",
    "            categories_red[elem[0]]= aux\n"
   ]
  },
  {
   "cell_type": "code",
   "execution_count": 13,
   "metadata": {},
   "outputs": [],
   "source": [
    "write_pickle('data/categories_red.pkl', categories_red)"
   ]
  },
  {
   "cell_type": "code",
   "execution_count": 14,
   "metadata": {},
   "outputs": [],
   "source": [
    "categories_red = read_pickle('data/categories_red.pkl')"
   ]
  },
  {
   "cell_type": "markdown",
   "metadata": {},
   "source": [
    "# RQ1"
   ]
  },
  {
   "cell_type": "markdown",
   "metadata": {},
   "source": [
    "Build the graph G=(V, E), where V is the set of articles and E the hyperlinks among them. Then, provide its basic information:\n",
    "\n",
    "Is the graph directed?\n",
    "How many articles are we considering?\n",
    "How many hyperlinks between pages exist?\n",
    "Compute the average number of links in an arbitrary page. What is the graph density? Do you believe that the graph is dense or sparse? Is the graph dense?\n",
    "Visualize the nodes' degree distribution"
   ]
  },
  {
   "cell_type": "code",
   "execution_count": 15,
   "metadata": {},
   "outputs": [],
   "source": [
    "data = pd.read_csv('data/dataset.csv')"
   ]
  },
  {
   "cell_type": "markdown",
   "metadata": {},
   "source": [
    "Creation of the Graph"
   ]
  },
  {
   "cell_type": "code",
   "execution_count": 16,
   "metadata": {},
   "outputs": [
    {
     "name": "stderr",
     "output_type": "stream",
     "text": [
      "100%|██████████| 98343/98343 [00:21<00:00, 4602.81it/s] \n"
     ]
    }
   ],
   "source": [
    "graph = get_graph_dictionary(data)"
   ]
  },
  {
   "cell_type": "code",
   "execution_count": 17,
   "metadata": {},
   "outputs": [],
   "source": [
    "write_pickle('data/graph.pkl', graph)"
   ]
  },
  {
   "cell_type": "code",
   "execution_count": 18,
   "metadata": {},
   "outputs": [],
   "source": [
    "graph = read_pickle('data/graph.pkl')"
   ]
  },
  {
   "cell_type": "markdown",
   "metadata": {},
   "source": [
    "Initialization of the Class Graph"
   ]
  },
  {
   "cell_type": "code",
   "execution_count": 19,
   "metadata": {},
   "outputs": [],
   "source": [
    "g = Graph(graph)"
   ]
  },
  {
   "cell_type": "markdown",
   "metadata": {},
   "source": [
    "### Is the graph directed?"
   ]
  },
  {
   "cell_type": "markdown",
   "metadata": {},
   "source": [
    "The graph is directed by construction, in fact it is composed of Source nodes and Target nodes. \n",
    "These nodes may repeat themselves, but are connected by single edges. \n",
    "Furthermore, it is possible to prove this by considering the adjacency matrix, in fact in general a graph can be represented by a sparse matrix. This means that the adjacency matrix of an directed graph is not necessarily symmetric. As shown below, the matrix is not symmetric. "
   ]
  },
  {
   "cell_type": "code",
   "execution_count": 20,
   "metadata": {},
   "outputs": [
    {
     "name": "stderr",
     "output_type": "stream",
     "text": [
      "/Users/domenicospoto/opt/anaconda3/envs/algotrading/lib/python3.7/site-packages/ipykernel_launcher.py:4: SparseEfficiencyWarning: Comparing sparse matrices using == is inefficient, try using != instead.\n",
      "  after removing the cwd from sys.path.\n"
     ]
    },
    {
     "name": "stdout",
     "output_type": "stream",
     "text": [
      "No symmetric\n"
     ]
    }
   ],
   "source": [
    "mat = sp.lil_matrix((max(g.vertices())+1,max(g.vertices())+1), dtype=int)\n",
    "# method to check if the matrix is symmetric\n",
    "rows, cols = IsSymmetric(mat, g)\n",
    "if np.cumsum((mat[cols, rows] == mat[rows, cols]).A)[-1] == mat[cols, rows].shape[1]:\n",
    "    print('Is symmetric')\n",
    "else:\n",
    "    print('No symmetric')"
   ]
  },
  {
   "cell_type": "markdown",
   "metadata": {},
   "source": [
    "### How many articles are we considering?"
   ]
  },
  {
   "cell_type": "markdown",
   "metadata": {},
   "source": [
    "We considered both Sources and Targets and took the unique values. This gives us the value of the total pages. "
   ]
  },
  {
   "cell_type": "code",
   "execution_count": 21,
   "metadata": {},
   "outputs": [
    {
     "name": "stdout",
     "output_type": "stream",
     "text": [
      "Aricles of the graph:\n",
      "98343\n"
     ]
    }
   ],
   "source": [
    "print(\"Aricles of the graph:\")\n",
    "print(len(g.vertices()))"
   ]
  },
  {
   "cell_type": "markdown",
   "metadata": {},
   "source": [
    "### How many hyperlinks between pages exist?"
   ]
  },
  {
   "cell_type": "code",
   "execution_count": 22,
   "metadata": {},
   "outputs": [
    {
     "name": "stdout",
     "output_type": "stream",
     "text": [
      "Hyperlinks of the graph:\n",
      "483094\n"
     ]
    }
   ],
   "source": [
    "print(\"Hyperlinks of the graph:\")\n",
    "print(len(g.edges()))"
   ]
  },
  {
   "cell_type": "markdown",
   "metadata": {},
   "source": [
    "### Compute the average number of links in an arbitrary page. What is the graph density? Do you believe that the graph is dense or sparse? Is the graph dense?"
   ]
  },
  {
   "cell_type": "code",
   "execution_count": 23,
   "metadata": {},
   "outputs": [
    {
     "name": "stdout",
     "output_type": "stream",
     "text": [
      "4.88\n"
     ]
    }
   ],
   "source": [
    "\"\"\"\n",
    "take only the first 100  pages and compute the average number of linkes per page\n",
    "\"\"\"\n",
    "list_ = []\n",
    "for i in range(100):\n",
    "    list_.append(average_number_pages1(g))\n",
    "    avg = sum(list_)/len(list_)\n",
    "print(avg)"
   ]
  },
  {
   "cell_type": "markdown",
   "metadata": {},
   "source": [
    "Here we compute the density of the graph. \n",
    "Since our graph is directed, we can compute the density as follows:\n",
    "    $$D = \\frac{\\lvert{E}\\rvert}{2\\binom{\\lvert{V}\\rvert}{2}} = \\frac{\\lvert{E}\\rvert}{\\lvert{V}\\rvert(\\lvert{V}\\rvert - 1)}$$"
   ]
  },
  {
   "cell_type": "code",
   "execution_count": 24,
   "metadata": {},
   "outputs": [
    {
     "data": {
      "text/plain": [
       "4.9951571365597335e-05"
      ]
     },
     "execution_count": 24,
     "metadata": {},
     "output_type": "execute_result"
    }
   ],
   "source": [
    "density_graph(g)"
   ]
  },
  {
   "cell_type": "markdown",
   "metadata": {},
   "source": [
    "From the results, we may say that our graph is sparse because the density is close to 0."
   ]
  },
  {
   "cell_type": "markdown",
   "metadata": {},
   "source": [
    "### Visualize the nodes' degree distribution"
   ]
  },
  {
   "cell_type": "markdown",
   "metadata": {},
   "source": [
    "#### In degree Distribution "
   ]
  },
  {
   "cell_type": "markdown",
   "metadata": {},
   "source": [
    "At this point we have calculated the in degree distribution, i.e. the number of links entering a node. \n",
    "As the plot shows many nodes have a low number of in-links.  "
   ]
  },
  {
   "cell_type": "code",
   "execution_count": 25,
   "metadata": {},
   "outputs": [],
   "source": [
    "concat = [data['Source'], data['Target']]\n",
    "df_concat = pd.concat(concat)"
   ]
  },
  {
   "cell_type": "code",
   "execution_count": 26,
   "metadata": {},
   "outputs": [
    {
     "name": "stderr",
     "output_type": "stream",
     "text": [
      "100%|██████████| 483094/483094 [00:00<00:00, 1533120.89it/s]\n"
     ]
    }
   ],
   "source": [
    "all_nodes = list(df_concat.unique())\n",
    "d_aux = dict.fromkeys(all_nodes, 0)\n",
    "only_target_node = list(data.Target)\n",
    "for node in tqdm(only_target_node):\n",
    "    d_aux[node] +=1"
   ]
  },
  {
   "cell_type": "code",
   "execution_count": 27,
   "metadata": {},
   "outputs": [],
   "source": [
    "in_deg = Counter(sorted(list(d_aux.values())))\n",
    "y_in = np.array(list(in_deg.values()))\n",
    "y_in = y_in/len(g.vertices())\n",
    "x_in = list(in_deg.keys())"
   ]
  },
  {
   "cell_type": "code",
   "execution_count": 28,
   "metadata": {},
   "outputs": [
    {
     "data": {
      "image/png": "[encoded data removed]",
      "text/plain": [
       "<Figure size 936x432 with 1 Axes>"
      ]
     },
     "metadata": {
      "needs_background": "light"
     },
     "output_type": "display_data"
    }
   ],
   "source": [
    "plt.figure(figsize=(13,6))\n",
    "plt.bar(x_in , y_in,\n",
    "        color=(0.2, 0.4, 0.6, 0.6),\n",
    "        edgecolor='blue')\n",
    "plt.title(\"In Degree distribution of the firts 50 nodes \")\n",
    "plt.xlabel(\"In-degree\")\n",
    "plt.ylabel(\"Probability of node with in-degree = k \")\n",
    "plt.xlim(-1, 60)\n",
    "plt.show()"
   ]
  },
  {
   "cell_type": "markdown",
   "metadata": {},
   "source": [
    "#### Out-Degree"
   ]
  },
  {
   "cell_type": "markdown",
   "metadata": {},
   "source": [
    "Out-degree distribution is the numer of links that go out from an vertex. \n",
    "In this case we computed this value considering the lenght of the list of a source node. "
   ]
  },
  {
   "cell_type": "code",
   "execution_count": 29,
   "metadata": {},
   "outputs": [
    {
     "name": "stderr",
     "output_type": "stream",
     "text": [
      "100%|██████████| 98343/98343 [00:00<00:00, 1233807.75it/s]\n"
     ]
    }
   ],
   "source": [
    "out_deg_list = []\n",
    "for key,items in tqdm(g.graph_d.items()):\n",
    "    if isinstance(g.graph_d[key], list):\n",
    "         out_deg_list.append(len(g.graph_d[key]))\n",
    "    elif (isinstance(g.graph_d[key], int)): \n",
    "        out_deg_list.append(1) \n",
    "out_deg = Counter(sorted(out_deg_list))\n",
    "x_out = list(out_deg.keys())\n",
    "y_out =  np.array(list(out_deg.values()))/ len(g.vertices())"
   ]
  },
  {
   "cell_type": "code",
   "execution_count": 30,
   "metadata": {},
   "outputs": [
    {
     "data": {
      "image/png": "[encoded data removed]",
      "text/plain": [
       "<Figure size 936x432 with 1 Axes>"
      ]
     },
     "metadata": {
      "needs_background": "light"
     },
     "output_type": "display_data"
    }
   ],
   "source": [
    "plt.figure(figsize=(13,6))\n",
    "plt.bar(x_out, y_out,\n",
    "        color=(0.2, 0.4, 0.6, 0.6),\n",
    "        edgecolor='blue')\n",
    "plt.title(\"Out Degree distribution of the firts 50 nodes \")\n",
    "plt.xlabel(\"Out-degree\")\n",
    "plt.ylabel(\"Probability of node with out-degree = k \")\n",
    "plt.xlim(-1, 50)\n",
    "plt.show()"
   ]
  },
  {
   "cell_type": "markdown",
   "metadata": {},
   "source": [
    "# RQ2"
   ]
  },
  {
   "cell_type": "markdown",
   "metadata": {},
   "source": [
    "Define a function that takes in input:\n",
    "\n",
    "A page v\n",
    "A number of clicks d\n",
    "and returns the set of all pages that a user can reach within d clicks."
   ]
  },
  {
   "cell_type": "code",
   "execution_count": 31,
   "metadata": {},
   "outputs": [],
   "source": [
    "dic = defaultdict(list)  # Creating default dictionary to store Source as key and Value as Target\n",
    "for key,value in zip(data['Source'],data['Target']): \n",
    "    dic[str(key)].append(str(value))"
   ]
  },
  {
   "cell_type": "markdown",
   "metadata": {},
   "source": [
    "Given the starting page, this function returns all the possible pages reached in n clicks."
   ]
  },
  {
   "cell_type": "code",
   "execution_count": 32,
   "metadata": {},
   "outputs": [
    {
     "name": "stdout",
     "output_type": "stream",
     "text": [
      " Enter page number 108\n",
      " Enter number of clicks 2\n",
      "User can reach 44 pages after 2 clicks\n"
     ]
    }
   ],
   "source": [
    "try:\n",
    "    page = input(\" Enter page number \")\n",
    "    click = input(\" Enter number of clicks \")\n",
    "    if page!='' or click!='':\n",
    "        total_pages = pages_reached(page,int(click),dic)\n",
    "        if len(total_pages)!=0:\n",
    "            print(\"User can reach {} pages after {} clicks\".format(len(total_pages),click))\n",
    "        else:\n",
    "            print(\"There is no link for this page, Kindly try with another page\")\n",
    "    else:\n",
    "        print(\" *********** Kindly provide valid input  **********\")\n",
    "except ValueError:\n",
    "    print(\"No valid input! Please try again ...\")"
   ]
  },
  {
   "cell_type": "markdown",
   "metadata": {},
   "source": [
    "# RQ3"
   ]
  },
  {
   "cell_type": "markdown",
   "metadata": {},
   "source": [
    "Define a function that takes in input:\n",
    "- A category C\n",
    "- A set of pages in C, p = {p1, ..., pn}\n",
    "\n",
    "and returns the minimum number of clicks required to reach all pages in p, starting from the page v, corresponding to the most central article, according to the in-degree centrality, in C."
   ]
  },
  {
   "cell_type": "code",
   "execution_count": 33,
   "metadata": {
    "scrolled": true
   },
   "outputs": [
    {
     "name": "stdout",
     "output_type": "stream",
     "text": [
      "Write the category\n",
      "Association_football_forwards\n",
      "\n",
      "Write the set of pages in the category chosen separated by a ',':\n",
      "4885788\n",
      "\n",
      "4885788  not in  Association_football_forwards\n",
      "Reached vertex are: []\n",
      "Minimum number of clicks, from most central article 81928 to reach the set of pages, is 0.\n",
      "Not possible to reach []\n"
     ]
    }
   ],
   "source": [
    "minimum_number_clicks(g.graph_d, categories_red, data)"
   ]
  },
  {
   "cell_type": "markdown",
   "metadata": {},
   "source": [
    "Within the function \"minimum_number_clicks\", we built the function called \"most_central_article\" which looks for the most central article in the category chosen. As measure of centrality we used the in-degree centrality to get in-degree values of each vertex in the chosen category.\n",
    "\n",
    "Since we are using the Breadth First Search to search for all the neighbors close to the most central article, at worst we can have a time complexity of O(V+E) where V is number of vertices in the graph and E is number of edges in the graph. Keep in mind that not all the vertices are reachable from the most central article, so there can be cases where the articles chosen are not possible to reach."
   ]
  },
  {
   "cell_type": "markdown",
   "metadata": {},
   "source": [
    "# RQ4"
   ]
  },
  {
   "cell_type": "markdown",
   "metadata": {},
   "source": [
    "Given in input two categories: C1 and C2, we get the subgraph induced by all the articles in the two categories.\n",
    "\n",
    "Let v and u two arbitrary pages in the subgraph. What is the minimum set of hyperlinks one can remove to disconnect u and v?"
   ]
  },
  {
   "cell_type": "markdown",
   "metadata": {},
   "source": [
    "In this question we were asked to implement a function that, given two categories as input, would return the subgraph induced by all the pages belonging to those two categories.\n",
    "\n",
    "Our reasoning in creating the function below was that the best course of action would be to consider all those pages that could be found in the \"source\" and \"target\" columns of the main dataset, that being ds. In this way, we could avoid selecting many of those pages found in these categories that have no links to any other page. So in the cat_subgraph function we firstly selected all the pages belonging to the two categories and then created a subset of the main dataset, taking into account only the pages belonging to edges that either connect the two categories or are within the categories themselves."
   ]
  },
  {
   "cell_type": "code",
   "execution_count": 34,
   "metadata": {},
   "outputs": [
    {
     "name": "stderr",
     "output_type": "stream",
     "text": [
      "100%|██████████| 10923/10923 [00:02<00:00, 5415.37it/s]\n"
     ]
    }
   ],
   "source": [
    "sub_graph = cat_subgraph('Main_Belt_asteroids', \n",
    "                         'Asteroids_named_for_people', \n",
    "                         categories_red, \n",
    "                         data)"
   ]
  },
  {
   "cell_type": "markdown",
   "metadata": {},
   "source": [
    "Once the structure of the subgraph is computed as a dictionary, we can apply the Graph class to it."
   ]
  },
  {
   "cell_type": "code",
   "execution_count": 35,
   "metadata": {},
   "outputs": [],
   "source": [
    "sub_g = Graph(sub_graph)"
   ]
  },
  {
   "cell_type": "code",
   "execution_count": 36,
   "metadata": {},
   "outputs": [],
   "source": [
    "for key,val in sub_graph.items():\n",
    "    if isinstance(sub_graph[key], int):\n",
    "        sub_graph[key] = [sub_graph[key]]"
   ]
  },
  {
   "cell_type": "markdown",
   "metadata": {},
   "source": [
    "#### second function"
   ]
  },
  {
   "cell_type": "markdown",
   "metadata": {},
   "source": [
    "For the second question of this request, we created two additional functions. The first one finds all the hyperlinks that connect the two nodes given as input, within the subgraph of their categories.\n",
    "\n",
    "It must be noted that, because of the preprocessing, not every pair of nodes has a meaningful output for this function. This is because many paths are missing in our dataframe, so that it is not possible to go from any node to any other node in the way we would in the complete Wikipedia. In fact, we observed that most of the nodes that have links are actually part of clusters of nodes, that is group of nodes that are connected to each other through paths. One such cluster is found as the output of this function."
   ]
  },
  {
   "cell_type": "code",
   "execution_count": 37,
   "metadata": {},
   "outputs": [
    {
     "data": {
      "text/plain": [
       "[[865445, 865446, 865447, 865449],\n",
       " [865445, 865446, 865449],\n",
       " [865445, 865447, 865446, 865449],\n",
       " [865445, 865447, 865449],\n",
       " [865445, 865449]]"
      ]
     },
     "execution_count": 37,
     "metadata": {},
     "output_type": "execute_result"
    }
   ],
   "source": [
    "find_hyperlinks(sub_graph, 865445, 865449)"
   ]
  },
  {
   "cell_type": "markdown",
   "metadata": {},
   "source": [
    "The second function returns the amount of paths found, which comprises the minimum number of links that need to be cut in order to disconnect the two nodes."
   ]
  },
  {
   "cell_type": "code",
   "execution_count": 38,
   "metadata": {},
   "outputs": [
    {
     "data": {
      "text/plain": [
       "5"
      ]
     },
     "execution_count": 38,
     "metadata": {},
     "output_type": "execute_result"
    }
   ],
   "source": [
    "min_hyperlinks(sub_graph, 865445, 865449)"
   ]
  },
  {
   "cell_type": "markdown",
   "metadata": {},
   "source": [
    "# RQ5"
   ]
  },
  {
   "cell_type": "markdown",
   "metadata": {},
   "source": [
    "For the fifth question we had to write a function that would return the distance between a category given as input and every other category in our dataframe.\n",
    "\n",
    "As previously stated, because of the preprocessing and limitedness of the dataframe, many of the paths between nodes are missing, so that it is not possible to draw a complete path between any pair of nodes. For this reason, in the final output many distances are missing.\n"
   ]
  },
  {
   "cell_type": "code",
   "execution_count": 39,
   "metadata": {},
   "outputs": [],
   "source": [
    "concat = [data['Source'], data['Target']]\n",
    "df_concat = pd.concat(concat)\n",
    "all_nodes = list(df_concat.unique())"
   ]
  },
  {
   "cell_type": "markdown",
   "metadata": {},
   "source": [
    "Since the computational time for this operation might be high, we have considered some examples for the following categories as tests.  | \n",
    "Since the categories have been assigned to the pages randomly, there could be several categories. \n",
    "For the sake of consistency, we saved everything in a pickle file and iterated over all categories.  "
   ]
  },
  {
   "cell_type": "code",
   "execution_count": 40,
   "metadata": {},
   "outputs": [
    {
     "name": "stdout",
     "output_type": "stream",
     "text": [
      "+---------------------------------------------------------------------+\n",
      "|                          Avaible Categories                         |\n",
      "+---------------------------------------------------------------------+\n",
      "|                    Association_football_defenders                   |\n",
      "|                         English_footballers                         |\n",
      "|                        Year_of_death_missing                        |\n",
      "|                   Association_football_midfielders                  |\n",
      "|                    Association_football_forwards                    |\n",
      "|                     The_Football_League_players                     |\n",
      "|                        Year_of_birth_missing                        |\n",
      "|                Place_of_birth_missing_(living_people)               |\n",
      "| Members_of_the_United_Kingdom_Parliament_for_English_constituencies |\n",
      "|                      Harvard_University_alumni                      |\n",
      "|                         American_film_actors                        |\n",
      "|                      American_television_actors                     |\n",
      "|                    Major_League_Baseball_pitchers                   |\n",
      "|                             Indian_films                            |\n",
      "|                        English-language_films                       |\n",
      "|                        Black-and-white_films                        |\n",
      "|                            American_films                           |\n",
      "|                          Rivers_of_Romania                          |\n",
      "|                      Asteroids_named_for_people                     |\n",
      "|                         Main_Belt_asteroids                         |\n",
      "|                             Debut_albums                            |\n",
      "+---------------------------------------------------------------------+\n"
     ]
    }
   ],
   "source": [
    "t = PrettyTable(['Avaible Categories'])\n",
    "for key,elem in categories_red.items():\n",
    "    t.add_row([key])\n",
    "print(t)"
   ]
  },
  {
   "cell_type": "code",
   "execution_count": null,
   "metadata": {},
   "outputs": [],
   "source": [
    "score = distances_from_category(\"Major_League_Baseball_pitchers\",\n",
    "                        categories_red, data, all_nodes)"
   ]
  },
  {
   "cell_type": "code",
   "execution_count": null,
   "metadata": {},
   "outputs": [],
   "source": [
    "score_categories(score)"
   ]
  },
  {
   "cell_type": "markdown",
   "metadata": {},
   "source": [
    "We can see for the example given, the greater the correlation between the pages, the smaller the distance. "
   ]
  },
  {
   "cell_type": "code",
   "execution_count": 63,
   "metadata": {},
   "outputs": [
    {
     "name": "stdout",
     "output_type": "stream",
     "text": [
      "Harvard_University_alumni\n",
      "+---------------------------------------------------------------------+----------+\n",
      "|                              Categories                             | Distance |\n",
      "+---------------------------------------------------------------------+----------+\n",
      "|                    Association_football_forwards                    |   1.0    |\n",
      "|                        English-language_films                       |   1.0    |\n",
      "|                         American_film_actors                        |   3.0    |\n",
      "|                            American_films                           |   4.0    |\n",
      "|                      American_television_actors                     |   5.0    |\n",
      "|                         Main_Belt_asteroids                         |   6.0    |\n",
      "| Members_of_the_United_Kingdom_Parliament_for_English_constituencies |   6.0    |\n",
      "|                        Year_of_birth_missing                        |   6.0    |\n",
      "|                        Year_of_death_missing                        |   6.0    |\n",
      "|                   Association_football_midfielders                  |   7.0    |\n",
      "|                        Black-and-white_films                        |   7.0    |\n",
      "|                         English_footballers                         |   7.0    |\n",
      "|                             Indian_films                            |   7.0    |\n",
      "|                    Major_League_Baseball_pitchers                   |   7.0    |\n",
      "|                Place_of_birth_missing_(living_people)               |   7.0    |\n",
      "|                      Asteroids_named_for_people                     |   8.0    |\n",
      "|                             Debut_albums                            |   8.0    |\n",
      "|                     The_Football_League_players                     |   9.0    |\n",
      "+---------------------------------------------------------------------+----------+\n"
     ]
    }
   ],
   "source": [
    "score_categories(input())"
   ]
  },
  {
   "cell_type": "markdown",
   "metadata": {},
   "source": [
    "# RQ6"
   ]
  },
  {
   "cell_type": "markdown",
   "metadata": {},
   "source": [
    "Write a function that sorts the categories in the graph according to their PageRank (PR). For this task you need to model the network of categories such that you can apply the PR algorithm."
   ]
  },
  {
   "cell_type": "code",
   "execution_count": 129,
   "metadata": {},
   "outputs": [
    {
     "name": "stderr",
     "output_type": "stream",
     "text": [
      "100%|██████████| 98343/98343 [01:32<00:00, 1059.48it/s]\n"
     ]
    }
   ],
   "source": [
    "inbound = inbound(data) #initialize the function\n",
    "outbound = out_bound(g) #initialize the function"
   ]
  },
  {
   "cell_type": "code",
   "execution_count": 144,
   "metadata": {},
   "outputs": [
    {
     "name": "stderr",
     "output_type": "stream",
     "text": [
      "100%|██████████| 21/21 [00:20<00:00,  1.02it/s]\n"
     ]
    }
   ],
   "source": [
    "rank = page_rank(100, categories_red, inbound, outbound) # implementation of the Page Rank algorithm"
   ]
  },
  {
   "cell_type": "code",
   "execution_count": 145,
   "metadata": {},
   "outputs": [
    {
     "name": "stdout",
     "output_type": "stream",
     "text": [
      "+---------------------------------------------------------------------+------------------------+-----------+\n",
      "|                              Categories                             |         Score          | Page Rank |\n",
      "+---------------------------------------------------------------------+------------------------+-----------+\n",
      "|                         American_film_actors                        | 0.00011026518436675495 |     1     |\n",
      "|                        English-language_films                       | 0.0001324579318325103  |     2     |\n",
      "|                      American_television_actors                     | 0.00018934014957871817 |     3     |\n",
      "|                            American_films                           | 0.00019811167280956072 |     4     |\n",
      "|                             Debut_albums                            | 0.00023806689679800025 |     5     |\n",
      "|                Place_of_birth_missing_(living_people)               | 0.00031440502144338344 |     6     |\n",
      "|                      Asteroids_named_for_people                     | 0.00032425421530479895 |     7     |\n",
      "|                    Association_football_forwards                    | 0.00035846831492576453 |     8     |\n",
      "|                        Black-and-white_films                        | 0.00035933156483530337 |     9     |\n",
      "|                   Association_football_midfielders                  | 0.0003691671588895452  |     10    |\n",
      "|                     The_Football_League_players                     | 0.0004099200655872105  |     11    |\n",
      "|                    Association_football_defenders                   | 0.0005245171467275103  |     12    |\n",
      "|                        Year_of_birth_missing                        | 0.0006121824303642488  |     13    |\n",
      "|                             Indian_films                            | 0.0007053331136341523  |     14    |\n",
      "|                        Year_of_death_missing                        | 0.0008356874137762229  |     15    |\n",
      "|                      Harvard_University_alumni                      | 0.0008651245711462672  |     16    |\n",
      "|                         English_footballers                         |  0.000872681276179395  |     17    |\n",
      "|                    Major_League_Baseball_pitchers                   | 0.0013929837217909445  |     18    |\n",
      "| Members_of_the_United_Kingdom_Parliament_for_English_constituencies | 0.0015525735025488166  |     19    |\n",
      "|                          Rivers_of_Romania                          |  0.019209307947557666  |     20    |\n",
      "|                         Main_Belt_asteroids                         |  0.09177979917399451   |     21    |\n",
      "+---------------------------------------------------------------------+------------------------+-----------+\n"
     ]
    }
   ],
   "source": [
    "d_view = [(v,k) for k,v in rank.items()]\n",
    "d_view.sort(reverse=False)\n",
    "t = PrettyTable(['Categories', 'Score', 'Page Rank'])\n",
    "count=0\n",
    "for v,k in d_view:\n",
    "    count+=1\n",
    "    if not np.isnan(v):\n",
    "        t.add_row([k,v,count])\n",
    "print(t)"
   ]
  },
  {
   "cell_type": "markdown",
   "metadata": {},
   "source": [
    "The category with highest score is the \"Main_Belt_asteroids\" and the lowest score is \"American_film_actors\"."
   ]
  }
 ],
 "metadata": {
  "kernelspec": {
   "display_name": "Python 3",
   "language": "python",
   "name": "python3"
  },
  "language_info": {
   "codemirror_mode": {
    "name": "ipython",
    "version": 3
   },
   "file_extension": ".py",
   "mimetype": "text/x-python",
   "name": "python",
   "nbconvert_exporter": "python",
   "pygments_lexer": "ipython3",
   "version": "3.7.9"
  }
 },
 "nbformat": 4,
 "nbformat_minor": 4
}
